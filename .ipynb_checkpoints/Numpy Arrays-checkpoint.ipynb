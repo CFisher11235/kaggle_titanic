{
 "cells": [
  {
   "cell_type": "code",
   "execution_count": 3,
   "metadata": {
    "collapsed": false
   },
   "outputs": [
    {
     "name": "stdout",
     "output_type": "stream",
     "text": [
      "libraries all imported and ready to go\n"
     ]
    }
   ],
   "source": [
    "import numpy as np\n",
    "import csv as csv\n",
    "\n",
    "print \"libraries all imported and ready to go\""
   ]
  },
  {
   "cell_type": "code",
   "execution_count": 4,
   "metadata": {
    "collapsed": false
   },
   "outputs": [],
   "source": [
    "csv_file_object = csv.reader(open('data/train.csv','rb'))"
   ]
  },
  {
   "cell_type": "code",
   "execution_count": 5,
   "metadata": {
    "collapsed": true
   },
   "outputs": [],
   "source": [
    "header = csv_file_object.next()"
   ]
  },
  {
   "cell_type": "code",
   "execution_count": 6,
   "metadata": {
    "collapsed": true
   },
   "outputs": [],
   "source": [
    "data=[]"
   ]
  },
  {
   "cell_type": "code",
   "execution_count": 7,
   "metadata": {
    "collapsed": true
   },
   "outputs": [],
   "source": [
    "for row in csv_file_object:\n",
    "    data.append(row)"
   ]
  },
  {
   "cell_type": "code",
   "execution_count": 8,
   "metadata": {
    "collapsed": true
   },
   "outputs": [],
   "source": [
    "data = np.array(data)"
   ]
  },
  {
   "cell_type": "code",
   "execution_count": 9,
   "metadata": {
    "collapsed": false
   },
   "outputs": [
    {
     "name": "stdout",
     "output_type": "stream",
     "text": [
      "[['1' '0' '3' ..., '7.25' '' 'S']\n",
      " ['2' '1' '1' ..., '71.2833' 'C85' 'C']\n",
      " ['3' '1' '3' ..., '7.925' '' 'S']\n",
      " ..., \n",
      " ['889' '0' '3' ..., '23.45' '' 'S']\n",
      " ['890' '1' '1' ..., '30' 'C148' 'C']\n",
      " ['891' '0' '3' ..., '7.75' '' 'Q']]\n"
     ]
    }
   ],
   "source": [
    "print data"
   ]
  },
  {
   "cell_type": "code",
   "execution_count": 10,
   "metadata": {
    "collapsed": false
   },
   "outputs": [
    {
     "name": "stdout",
     "output_type": "stream",
     "text": [
      "['1' '0' '3' 'Braund, Mr. Owen Harris' 'male' '22' '1' '0' 'A/5 21171'\n",
      " '7.25' '' 'S']\n"
     ]
    }
   ],
   "source": [
    "print data[0]"
   ]
  },
  {
   "cell_type": "code",
   "execution_count": 11,
   "metadata": {
    "collapsed": false
   },
   "outputs": [
    {
     "name": "stdout",
     "output_type": "stream",
     "text": [
      "['891' '0' '3' 'Dooley, Mr. Patrick' 'male' '32' '0' '0' '370376' '7.75' ''\n",
      " 'Q']\n"
     ]
    }
   ],
   "source": [
    "print data[-1]"
   ]
  },
  {
   "cell_type": "code",
   "execution_count": 12,
   "metadata": {
    "collapsed": false
   },
   "outputs": [
    {
     "name": "stdout",
     "output_type": "stream",
     "text": [
      "Braund, Mr. Owen Harris\n"
     ]
    }
   ],
   "source": [
    "print data[0,3]"
   ]
  },
  {
   "cell_type": "code",
   "execution_count": 13,
   "metadata": {
    "collapsed": false
   },
   "outputs": [
    {
     "data": {
      "text/plain": [
       "array([ 3.,  1.,  3.,  1.,  3.,  3.,  1.,  3.,  3.,  2.,  3.,  1.,  3.,\n",
       "        3.,  3.,  2.,  3.,  2.,  3.,  3.,  2.,  2.,  3.,  1.,  3.,  3.,\n",
       "        3.,  1.,  3.,  3.,  1.,  1.,  3.,  2.,  1.,  1.,  3.,  3.,  3.,\n",
       "        3.,  3.,  2.,  3.,  2.,  3.,  3.,  3.,  3.,  3.,  3.,  3.,  3.,\n",
       "        1.,  2.,  1.,  1.,  2.,  3.,  2.,  3.,  3.,  1.,  1.,  3.,  1.,\n",
       "        3.,  2.,  3.,  3.,  3.,  2.,  3.,  2.,  3.,  3.,  3.,  3.,  3.,\n",
       "        2.,  3.,  3.,  3.,  3.,  1.,  2.,  3.,  3.,  3.,  1.,  3.,  3.,\n",
       "        3.,  1.,  3.,  3.,  3.,  1.,  1.,  2.,  2.,  3.,  3.,  1.,  3.,\n",
       "        3.,  3.,  3.,  3.,  3.,  3.,  1.,  3.,  3.,  3.,  3.,  3.,  3.,\n",
       "        2.,  1.,  3.,  2.,  3.,  2.,  2.,  1.,  3.,  3.,  3.,  3.,  3.,\n",
       "        3.,  3.,  3.,  2.,  2.,  2.,  1.,  1.,  3.,  1.,  3.,  3.,  3.,\n",
       "        3.,  2.,  2.,  3.,  3.,  2.,  2.,  2.,  1.,  3.,  3.,  3.,  1.,\n",
       "        3.,  3.,  3.,  3.,  3.,  2.,  3.,  3.,  3.,  3.,  1.,  3.,  1.,\n",
       "        3.,  1.,  3.,  3.,  3.,  1.,  3.,  3.,  1.,  2.,  3.,  3.,  2.,\n",
       "        3.,  2.,  3.,  1.,  3.,  1.,  3.,  3.,  2.,  2.,  3.,  2.,  1.,\n",
       "        1.,  3.,  3.,  3.,  2.,  3.,  3.,  3.,  3.,  3.,  3.,  3.,  3.,\n",
       "        3.,  1.,  3.,  2.,  3.,  2.,  3.,  1.,  3.,  2.,  1.,  2.,  3.,\n",
       "        2.,  3.,  3.,  1.,  3.,  2.,  3.,  2.,  3.,  1.,  3.,  2.,  3.,\n",
       "        2.,  3.,  2.,  2.,  2.,  2.,  3.,  3.,  2.,  3.,  3.,  1.,  3.,\n",
       "        2.,  1.,  2.,  3.,  3.,  1.,  3.,  3.,  3.,  1.,  1.,  1.,  2.,\n",
       "        3.,  3.,  1.,  1.,  3.,  2.,  3.,  3.,  1.,  1.,  1.,  3.,  2.,\n",
       "        1.,  3.,  1.,  3.,  2.,  3.,  3.,  3.,  3.,  3.,  3.,  1.,  3.,\n",
       "        3.,  3.,  2.,  3.,  1.,  1.,  2.,  3.,  3.,  1.,  3.,  1.,  1.,\n",
       "        1.,  3.,  3.,  3.,  2.,  3.,  1.,  1.,  1.,  2.,  1.,  1.,  1.,\n",
       "        2.,  3.,  2.,  3.,  2.,  2.,  1.,  1.,  3.,  3.,  2.,  2.,  3.,\n",
       "        1.,  3.,  2.,  3.,  1.,  3.,  1.,  1.,  3.,  1.,  3.,  1.,  1.,\n",
       "        3.,  1.,  2.,  1.,  2.,  2.,  2.,  2.,  2.,  3.,  3.,  3.,  3.,\n",
       "        1.,  3.,  3.,  3.,  3.,  1.,  2.,  3.,  3.,  3.,  2.,  3.,  3.,\n",
       "        3.,  3.,  1.,  3.,  3.,  1.,  1.,  3.,  3.,  1.,  3.,  1.,  3.,\n",
       "        1.,  3.,  3.,  1.,  3.,  3.,  1.,  3.,  2.,  3.,  2.,  3.,  2.,\n",
       "        1.,  3.,  3.,  1.,  3.,  3.,  3.,  2.,  2.,  2.,  3.,  3.,  3.,\n",
       "        3.,  3.,  2.,  3.,  2.,  3.,  3.,  3.,  3.,  1.,  2.,  3.,  3.,\n",
       "        2.,  2.,  2.,  3.,  3.,  3.,  3.,  3.,  3.,  3.,  2.,  2.,  3.,\n",
       "        3.,  1.,  3.,  2.,  3.,  1.,  1.,  3.,  2.,  1.,  2.,  2.,  3.,\n",
       "        3.,  2.,  3.,  1.,  2.,  1.,  3.,  1.,  2.,  3.,  1.,  1.,  3.,\n",
       "        3.,  1.,  1.,  2.,  3.,  1.,  3.,  1.,  2.,  3.,  3.,  2.,  1.,\n",
       "        3.,  3.,  3.,  3.,  2.,  2.,  3.,  1.,  2.,  3.,  3.,  3.,  3.,\n",
       "        2.,  3.,  3.,  1.,  3.,  1.,  1.,  3.,  3.,  3.,  3.,  1.,  1.,\n",
       "        3.,  3.,  1.,  3.,  1.,  3.,  3.,  3.,  3.,  3.,  1.,  1.,  2.,\n",
       "        1.,  3.,  3.,  3.,  3.,  1.,  1.,  3.,  1.,  2.,  3.,  2.,  3.,\n",
       "        1.,  3.,  3.,  1.,  3.,  3.,  2.,  1.,  3.,  2.,  2.,  3.,  3.,\n",
       "        3.,  3.,  2.,  1.,  1.,  3.,  1.,  1.,  3.,  3.,  2.,  1.,  1.,\n",
       "        2.,  2.,  3.,  2.,  1.,  2.,  3.,  3.,  3.,  1.,  1.,  1.,  1.,\n",
       "        3.,  3.,  3.,  2.,  3.,  3.,  3.,  3.,  3.,  3.,  3.,  2.,  1.,\n",
       "        1.,  3.,  3.,  3.,  2.,  1.,  3.,  3.,  2.,  1.,  2.,  1.,  3.,\n",
       "        1.,  2.,  1.,  3.,  3.,  3.,  1.,  3.,  3.,  2.,  3.,  2.,  3.,\n",
       "        3.,  1.,  2.,  3.,  1.,  3.,  1.,  3.,  3.,  1.,  2.,  1.,  3.,\n",
       "        3.,  3.,  3.,  3.,  2.,  3.,  3.,  2.,  2.,  3.,  1.,  3.,  3.,\n",
       "        3.,  1.,  2.,  1.,  3.,  3.,  1.,  3.,  1.,  1.,  3.,  2.,  3.,\n",
       "        2.,  3.,  3.,  3.,  1.,  3.,  3.,  3.,  1.,  3.,  1.,  3.,  3.,\n",
       "        3.,  2.,  3.,  3.,  3.,  2.,  3.,  3.,  2.,  1.,  1.,  3.,  1.,\n",
       "        3.,  3.,  2.,  2.,  3.,  3.,  1.,  2.,  1.,  2.,  2.,  2.,  3.,\n",
       "        3.,  3.,  3.,  1.,  3.,  1.,  3.,  3.,  2.,  2.,  3.,  3.,  3.,\n",
       "        1.,  1.,  3.,  3.,  3.,  1.,  2.,  3.,  3.,  1.,  3.,  1.,  1.,\n",
       "        3.,  3.,  3.,  2.,  2.,  1.,  1.,  3.,  1.,  1.,  1.,  3.,  2.,\n",
       "        3.,  1.,  2.,  3.,  3.,  2.,  3.,  2.,  2.,  1.,  3.,  2.,  3.,\n",
       "        2.,  3.,  1.,  3.,  2.,  2.,  2.,  3.,  3.,  1.,  3.,  3.,  1.,\n",
       "        1.,  1.,  3.,  3.,  1.,  3.,  2.,  1.,  3.,  2.,  3.,  3.,  3.,\n",
       "        2.,  2.,  3.,  2.,  3.,  1.,  3.,  3.,  3.,  1.,  3.,  1.,  1.,\n",
       "        3.,  3.,  3.,  3.,  3.,  2.,  3.,  2.,  3.,  3.,  3.,  3.,  1.,\n",
       "        3.,  1.,  1.,  3.,  3.,  3.,  3.,  3.,  3.,  1.,  3.,  2.,  3.,\n",
       "        1.,  3.,  2.,  1.,  3.,  3.,  3.,  2.,  2.,  1.,  3.,  3.,  3.,\n",
       "        1.,  3.,  2.,  1.,  3.,  3.,  2.,  3.,  3.,  1.,  3.,  2.,  3.,\n",
       "        3.,  1.,  3.,  1.,  3.,  3.,  3.,  3.,  2.,  3.,  1.,  3.,  2.,\n",
       "        3.,  3.,  3.,  1.,  3.,  3.,  3.,  1.,  3.,  2.,  1.,  3.,  3.,\n",
       "        3.,  3.,  3.,  2.,  1.,  3.,  3.,  3.,  1.,  2.,  3.,  1.,  1.,\n",
       "        3.,  3.,  3.,  2.,  1.,  3.,  2.,  2.,  2.,  1.,  3.,  3.,  3.,\n",
       "        1.,  1.,  3.,  2.,  3.,  3.,  3.,  3.,  1.,  2.,  3.,  3.,  2.,\n",
       "        3.,  3.,  2.,  1.,  3.,  1.,  3.])"
      ]
     },
     "execution_count": 13,
     "metadata": {},
     "output_type": "execute_result"
    }
   ],
   "source": [
    "data[0::,2].astype(np.float)"
   ]
  },
  {
   "cell_type": "code",
   "execution_count": 14,
   "metadata": {
    "collapsed": false
   },
   "outputs": [
    {
     "name": "stdout",
     "output_type": "stream",
     "text": [
      "891\n"
     ]
    }
   ],
   "source": [
    "number_passengers = np.size(data[0::,1].astype(np.float))\n",
    "print number_passengers"
   ]
  },
  {
   "cell_type": "code",
   "execution_count": 15,
   "metadata": {
    "collapsed": false
   },
   "outputs": [
    {
     "name": "stdout",
     "output_type": "stream",
     "text": [
      "342.0\n"
     ]
    }
   ],
   "source": [
    "number_survived = np.sum(data[0::,1].astype(np.float))\n",
    "print number_survived"
   ]
  },
  {
   "cell_type": "code",
   "execution_count": 16,
   "metadata": {
    "collapsed": false
   },
   "outputs": [
    {
     "name": "stdout",
     "output_type": "stream",
     "text": [
      "0.383838383838\n"
     ]
    }
   ],
   "source": [
    "proportion_survivors = number_survived / number_passengers\n",
    "print proportion_survivors"
   ]
  },
  {
   "cell_type": "code",
   "execution_count": 21,
   "metadata": {
    "collapsed": false
   },
   "outputs": [
    {
     "name": "stdout",
     "output_type": "stream",
     "text": [
      "[False  True  True  True False False False False  True  True  True  True\n",
      " False False  True  True False False  True  True False False  True False\n",
      "  True  True False False  True False False  True  True False False False\n",
      " False False  True  True  True  True False  True  True False False  True\n",
      " False  True False False  True  True False False  True False  True False\n",
      " False  True False False False False  True False  True False False  True\n",
      " False False False False False False False  True False False  True False\n",
      "  True  True False False  True False False False False False False False\n",
      " False False  True False  True False False False False False  True False\n",
      " False  True False  True False  True  True False False False False  True\n",
      " False False False  True False False False False  True False False False\n",
      "  True  True False False  True False False False  True  True  True False\n",
      " False False False  True False False False  True False False False False\n",
      "  True False False False False  True False False False False  True  True\n",
      " False False False False  True False False False False  True False False\n",
      "  True False False False  True False  True False False False  True False\n",
      "  True False  True  True False False  True  True False False False False\n",
      " False  True False False  True False False  True False False False  True\n",
      "  True False  True False False False False False False False False False\n",
      " False  True  True False False  True False  True False  True False False\n",
      "  True  True False False False False  True  True False False False  True\n",
      " False False  True  True  True  True  True  True False False False False\n",
      "  True False False False  True  True False False  True False  True  True\n",
      "  True False False  True False False False False False False False False\n",
      " False  True  True  True False  True False False False  True False  True\n",
      "  True False False  True False False  True  True False  True  True  True\n",
      "  True False False  True  True False  True  True False False  True  True\n",
      " False  True False  True  True  True  True False False False  True False\n",
      " False  True False False False  True False False False  True  True  True\n",
      " False False False False False False False False  True  True  True  True\n",
      " False False  True False False False  True  True  True  True False False\n",
      " False False  True  True  True False False False  True  True False  True\n",
      " False False False  True False  True False False False  True  True False\n",
      "  True False False  True False False  True False  True False False False\n",
      " False  True False False  True False False  True  True  True False  True\n",
      " False False False  True False False  True  True False False False  True\n",
      "  True False False  True  True  True False False  True False False  True\n",
      " False False  True False  True False False False False False False False\n",
      " False  True  True False False False False False False False False False\n",
      " False  True False False  True  True  True False False False False  True\n",
      " False False False  True False  True  True False False False False False\n",
      " False False False False  True False  True False False  True  True  True\n",
      "  True False  True False False False False False False  True False False\n",
      "  True False  True False  True False False  True False False  True False\n",
      " False False  True False False  True  True  True False  True False  True\n",
      "  True  True  True False False False  True False False False False False\n",
      " False False  True False  True False  True  True False False False False\n",
      "  True False False  True False False False  True False  True False False\n",
      "  True  True  True False  True  True False False False  True False False\n",
      " False False False  True False  True False False  True False False False\n",
      "  True False False False False False False False  True  True  True False\n",
      "  True False False  True False  True  True False False False False False\n",
      " False False False  True False False False False False False  True  True\n",
      " False False  True False False  True  True False  True False False False\n",
      " False  True False  True False  True  True False False  True False False\n",
      " False False False False False False False False False  True  True False\n",
      " False False False False False  True  True False  True False False False\n",
      " False False False False False  True False  True False False False False\n",
      " False  True False False  True False  True False False False  True False\n",
      "  True False  True False False False False False  True  True False False\n",
      "  True False False False False False  True  True False  True  True False\n",
      " False False False False  True False False False False False  True False\n",
      " False False False  True False False  True False False False  True False\n",
      " False False False  True False False False  True False  True False  True\n",
      " False False False False  True False  True False False  True False  True\n",
      "  True  True False False False False  True False False False False False\n",
      "  True False False False  True  True False  True False  True False False\n",
      " False False False  True False  True False False False  True False False\n",
      "  True False False False  True False False  True False False False False\n",
      " False  True  True False False False False  True False False False False\n",
      " False False  True False False False False False False  True False False\n",
      "  True  True  True  True  True False  True False False False  True  True\n",
      " False  True  True False False False False  True False False  True  True\n",
      " False False False  True  True False  True False False  True False  True\n",
      "  True False False]\n",
      "[ True False False False  True  True  True  True False False False False\n",
      "  True  True False False  True  True False False  True  True False  True\n",
      " False False  True  True False  True  True False False  True  True  True\n",
      "  True  True False False False False  True False False  True  True False\n",
      "  True False  True  True False False  True  True False  True False  True\n",
      "  True False  True  True  True  True False  True False  True  True False\n",
      "  True  True  True  True  True  True  True False  True  True False  True\n",
      " False False  True  True False  True  True  True  True  True  True  True\n",
      "  True  True False  True False  True  True  True  True  True False  True\n",
      "  True False  True False  True False False  True  True  True  True False\n",
      "  True  True  True False  True  True  True  True False  True  True  True\n",
      " False False  True  True False  True  True  True False False False  True\n",
      "  True  True  True False  True  True  True False  True  True  True  True\n",
      " False  True  True  True  True False  True  True  True  True False False\n",
      "  True  True  True  True False  True  True  True  True False  True  True\n",
      " False  True  True  True False  True False  True  True  True False  True\n",
      " False  True False False  True  True False False  True  True  True  True\n",
      "  True False  True  True False  True  True False  True  True  True False\n",
      " False  True False  True  True  True  True  True  True  True  True  True\n",
      "  True False False  True  True False  True False  True False  True  True\n",
      " False False  True  True  True  True False False  True  True  True False\n",
      "  True  True False False False False False False  True  True  True  True\n",
      " False  True  True  True False False  True  True False  True False False\n",
      " False  True  True False  True  True  True  True  True  True  True  True\n",
      "  True False False False  True False  True  True  True False  True False\n",
      " False  True  True False  True  True False False  True False False False\n",
      " False  True  True False False  True False False  True  True False False\n",
      "  True False  True False False False False  True  True  True False  True\n",
      "  True False  True  True  True False  True  True  True False False False\n",
      "  True  True  True  True  True  True  True  True False False False False\n",
      "  True  True False  True  True  True False False False False  True  True\n",
      "  True  True False False False  True  True  True False False  True False\n",
      "  True  True  True False  True False  True  True  True False False  True\n",
      " False  True  True False  True  True False  True False  True  True  True\n",
      "  True False  True  True False  True  True False False False  True False\n",
      "  True  True  True False  True  True False False  True  True  True False\n",
      " False  True  True False False False  True  True False  True  True False\n",
      "  True  True False  True False  True  True  True  True  True  True  True\n",
      "  True False False  True  True  True  True  True  True  True  True  True\n",
      "  True False  True  True False False False  True  True  True  True False\n",
      "  True  True  True False  True False False  True  True  True  True  True\n",
      "  True  True  True  True False  True False  True  True False False False\n",
      " False  True False  True  True  True  True  True  True False  True  True\n",
      " False  True False  True False  True  True False  True  True False  True\n",
      "  True  True False  True  True False False False  True False  True False\n",
      " False False False  True  True  True False  True  True  True  True  True\n",
      "  True  True False  True False  True False False  True  True  True  True\n",
      " False  True  True False  True  True  True False  True False  True  True\n",
      " False False False  True False False  True  True  True False  True  True\n",
      "  True  True  True False  True False  True  True False  True  True  True\n",
      " False  True  True  True  True  True  True  True False False False  True\n",
      " False  True  True False  True False False  True  True  True  True  True\n",
      "  True  True  True False  True  True  True  True  True  True False False\n",
      "  True  True False  True  True False False  True False  True  True  True\n",
      "  True False  True False  True False False  True  True False  True  True\n",
      "  True  True  True  True  True  True  True  True  True False False  True\n",
      "  True  True  True  True  True False False  True False  True  True  True\n",
      "  True  True  True  True  True False  True False  True  True  True  True\n",
      "  True False  True  True False  True False  True  True  True False  True\n",
      " False  True False  True  True  True  True  True False False  True  True\n",
      " False  True  True  True  True  True False False  True False False  True\n",
      "  True  True  True  True False  True  True  True  True  True False  True\n",
      "  True  True  True False  True  True False  True  True  True False  True\n",
      "  True  True  True False  True  True  True False  True False  True False\n",
      "  True  True  True  True False  True False  True  True False  True False\n",
      " False False  True  True  True  True False  True  True  True  True  True\n",
      " False  True  True  True False False  True False  True False  True  True\n",
      "  True  True  True False  True False  True  True  True False  True  True\n",
      " False  True  True  True False  True  True False  True  True  True  True\n",
      "  True False False  True  True  True  True False  True  True  True  True\n",
      "  True  True False  True  True  True  True  True  True False  True  True\n",
      " False False False False False  True False  True  True  True False False\n",
      "  True False False  True  True  True  True False  True  True False False\n",
      "  True  True  True False False  True False  True  True False  True False\n",
      " False  True  True]\n"
     ]
    }
   ],
   "source": [
    "women_only_stats = data[0::,4] == \"female\"\n",
    "men_only_stats = data[0::,4] != \"female\"\n",
    "print women_only_stats\n",
    "print men_only_stats"
   ]
  },
  {
   "cell_type": "code",
   "execution_count": 22,
   "metadata": {
    "collapsed": false
   },
   "outputs": [
    {
     "name": "stdout",
     "output_type": "stream",
     "text": [
      "[ 1.  1.  1.  1.  1.  1.  1.  0.  1.  0.  1.  1.  0.  1.  1.  1.  1.  0.\n",
      "  1.  0.  0.  1.  1.  1.  0.  1.  1.  1.  1.  1.  1.  1.  0.  1.  1.  1.\n",
      "  1.  1.  1.  0.  1.  1.  0.  0.  0.  0.  1.  1.  0.  1.  1.  0.  1.  1.\n",
      "  0.  1.  1.  1.  1.  0.  1.  0.  0.  1.  1.  1.  1.  1.  1.  1.  0.  0.\n",
      "  1.  1.  1.  1.  1.  0.  1.  1.  0.  1.  0.  1.  0.  1.  0.  0.  1.  1.\n",
      "  1.  1.  1.  0.  1.  1.  1.  1.  1.  0.  1.  1.  1.  1.  0.  0.  1.  1.\n",
      "  1.  1.  1.  1.  1.  1.  0.  1.  1.  1.  1.  1.  1.  1.  1.  1.  1.  1.\n",
      "  1.  1.  1.  1.  1.  1.  1.  0.  1.  1.  0.  1.  1.  1.  1.  0.  1.  1.\n",
      "  1.  1.  1.  1.  1.  1.  1.  0.  1.  0.  0.  0.  1.  0.  1.  1.  0.  0.\n",
      "  1.  1.  1.  1.  1.  0.  1.  1.  1.  1.  1.  1.  1.  1.  1.  1.  0.  1.\n",
      "  1.  0.  1.  1.  0.  0.  0.  0.  1.  1.  1.  1.  1.  1.  1.  1.  1.  1.\n",
      "  0.  1.  1.  1.  1.  0.  0.  1.  1.  1.  1.  1.  0.  0.  1.  1.  1.  1.\n",
      "  0.  1.  1.  1.  1.  0.  1.  1.  1.  1.  0.  1.  1.  0.  1.  1.  0.  1.\n",
      "  0.  1.  0.  1.  1.  1.  1.  0.  0.  1.  1.  1.  0.  0.  1.  1.  1.  1.\n",
      "  0.  1.  1.  1.  1.  1.  1.  1.  1.  0.  1.  0.  1.  1.  1.  1.  1.  1.\n",
      "  1.  0.  0.  1.  1.  1.  1.  1.  1.  0.  1.  1.  0.  1.  0.  1.  0.  0.\n",
      "  1.  1.  1.  1.  1.  1.  1.  0.  1.  0.  1.  1.  1.  1.  0.  1.  1.  1.\n",
      "  1.  1.  1.  1.  0.  0.  1.  0.]\n",
      "[ 0.  0.  0.  0.  0.  0.  0.  0.  1.  0.  1.  1.  0.  0.  0.  0.  0.  0.\n",
      "  0.  1.  0.  0.  0.  0.  0.  0.  0.  0.  1.  0.  0.  0.  0.  0.  0.  1.\n",
      "  0.  0.  0.  0.  0.  1.  0.  0.  0.  1.  0.  1.  0.  0.  0.  0.  0.  0.\n",
      "  0.  0.  0.  0.  0.  1.  0.  0.  0.  0.  0.  0.  1.  0.  0.  0.  0.  0.\n",
      "  0.  0.  0.  0.  0.  0.  1.  0.  1.  0.  0.  0.  0.  0.  0.  0.  0.  0.\n",
      "  0.  0.  1.  0.  0.  0.  0.  0.  0.  0.  0.  0.  0.  0.  0.  0.  0.  1.\n",
      "  0.  0.  0.  0.  0.  0.  0.  0.  0.  0.  0.  0.  1.  0.  1.  0.  0.  0.\n",
      "  1.  0.  0.  0.  0.  0.  0.  1.  0.  1.  1.  0.  0.  0.  0.  0.  0.  1.\n",
      "  0.  0.  0.  1.  0.  1.  0.  0.  0.  0.  0.  0.  0.  0.  0.  0.  0.  0.\n",
      "  1.  0.  0.  0.  0.  0.  1.  0.  0.  0.  0.  1.  0.  1.  0.  0.  0.  0.\n",
      "  0.  0.  1.  0.  0.  1.  0.  1.  0.  0.  0.  0.  1.  1.  0.  0.  1.  0.\n",
      "  0.  0.  0.  0.  0.  0.  0.  0.  0.  0.  0.  0.  1.  0.  1.  0.  0.  0.\n",
      "  1.  0.  0.  0.  0.  0.  0.  0.  0.  0.  0.  0.  0.  1.  0.  0.  0.  0.\n",
      "  0.  0.  0.  0.  0.  0.  0.  1.  1.  0.  0.  0.  0.  1.  0.  0.  0.  0.\n",
      "  1.  0.  0.  0.  0.  1.  0.  0.  0.  0.  0.  0.  0.  1.  1.  0.  0.  0.\n",
      "  0.  0.  0.  1.  1.  1.  1.  0.  0.  0.  1.  0.  1.  0.  0.  1.  0.  0.\n",
      "  0.  0.  0.  0.  0.  0.  0.  0.  0.  0.  0.  0.  0.  0.  0.  1.  0.  0.\n",
      "  1.  0.  0.  0.  0.  0.  0.  0.  0.  0.  0.  1.  0.  1.  1.  0.  1.  0.\n",
      "  0.  0.  0.  0.  0.  0.  0.  0.  0.  0.  0.  0.  0.  0.  1.  0.  0.  1.\n",
      "  0.  1.  1.  0.  0.  1.  0.  0.  0.  0.  0.  0.  0.  0.  0.  1.  1.  1.\n",
      "  0.  0.  1.  0.  0.  0.  0.  1.  0.  0.  0.  0.  0.  0.  0.  0.  1.  0.\n",
      "  0.  0.  1.  0.  0.  1.  0.  0.  0.  0.  0.  0.  1.  1.  0.  0.  0.  0.\n",
      "  0.  0.  1.  0.  1.  0.  0.  0.  0.  0.  1.  1.  0.  1.  0.  0.  0.  0.\n",
      "  0.  0.  0.  1.  0.  0.  0.  1.  0.  0.  0.  0.  0.  0.  1.  0.  0.  0.\n",
      "  1.  1.  0.  0.  0.  0.  0.  0.  0.  1.  1.  0.  0.  0.  0.  0.  0.  1.\n",
      "  0.  0.  0.  1.  1.  0.  1.  0.  0.  0.  0.  0.  0.  0.  0.  1.  0.  0.\n",
      "  0.  0.  0.  0.  0.  1.  0.  0.  1.  0.  0.  1.  0.  0.  0.  0.  1.  0.\n",
      "  0.  1.  0.  0.  0.  0.  0.  1.  0.  0.  0.  0.  0.  0.  0.  0.  0.  0.\n",
      "  0.  0.  0.  0.  0.  1.  0.  0.  0.  0.  0.  0.  0.  0.  1.  1.  1.  0.\n",
      "  0.  0.  0.  0.  0.  0.  0.  0.  0.  0.  1.  0.  0.  0.  0.  1.  1.  1.\n",
      "  0.  0.  0.  0.  0.  1.  1.  0.  0.  0.  0.  0.  0.  0.  0.  0.  0.  1.\n",
      "  0.  0.  0.  0.  0.  0.  1.  0.  0.  0.  0.  0.  0.  0.  0.  0.  0.  1.\n",
      "  0.]\n"
     ]
    }
   ],
   "source": [
    "women_onboard = data[women_only_stats,1].astype(np.float)     \n",
    "men_onboard = data[men_only_stats,1].astype(np.float)\n",
    "print women_onboard\n",
    "print men_onboard"
   ]
  },
  {
   "cell_type": "code",
   "execution_count": 25,
   "metadata": {
    "collapsed": false
   },
   "outputs": [],
   "source": [
    "proportion_women_survived = np.sum(data[women_only_stats,1].astype(np.float)) / np.size(women_onboard)\n",
    "proportion_men_survived = np.sum(data[men_only_stats,1].astype(np.float)) / np.size(men_onboard)"
   ]
  },
  {
   "cell_type": "code",
   "execution_count": 26,
   "metadata": {
    "collapsed": false
   },
   "outputs": [
    {
     "name": "stdout",
     "output_type": "stream",
     "text": [
      "Proportion of women who survived is 0.742038216561\n",
      "Proportion of men who survived is 0.188908145581\n"
     ]
    }
   ],
   "source": [
    "print 'Proportion of women who survived is %s' % proportion_women_survived\n",
    "print 'Proportion of men who survived is %s' % proportion_men_survived"
   ]
  },
  {
   "cell_type": "code",
   "execution_count": 38,
   "metadata": {
    "collapsed": true
   },
   "outputs": [],
   "source": [
    "test_file = open('data/test.csv','rb')\n",
    "test_file_object = csv.reader(test_file)\n",
    "header = test_file_object.next()"
   ]
  },
  {
   "cell_type": "code",
   "execution_count": 39,
   "metadata": {
    "collapsed": true
   },
   "outputs": [],
   "source": [
    "prediction_file = open(\"genderbasedmodel.csv\", \"wb\")\n",
    "prediction_file_object = csv.writer(prediction_file)"
   ]
  },
  {
   "cell_type": "code",
   "execution_count": 40,
   "metadata": {
    "collapsed": false
   },
   "outputs": [
    {
     "name": "stdout",
     "output_type": "stream",
     "text": [
      "<open file 'genderbasedmodel.csv', mode 'wb' at 0x10bb76d20>\n"
     ]
    }
   ],
   "source": [
    "prediction_file_object.writerow([\"PassengerId\", \"Survived\"])\n",
    "for row in test_file_object:      \n",
    "    if row[4] == 'female':                                                \n",
    "        prediction_file_object.writerow([row[0],'1'])    \n",
    "    else:                                    \n",
    "        prediction_file_object.writerow([row[0],'0'])\n",
    "print prediction_file\n",
    "test_file.close()\n",
    "prediction_file.close()"
   ]
  },
  {
   "cell_type": "code",
   "execution_count": 42,
   "metadata": {
    "collapsed": false
   },
   "outputs": [],
   "source": [
    "fare_ceiling = 40\n",
    "data[data[0::,10].astype(np.float) >= fare_ceiling, 10] = fare_ceiling -1"
   ]
  },
  {
   "cell_type": "code",
   "execution_count": 43,
   "metadata": {
    "collapsed": true
   },
   "outputs": [],
   "source": [
    "fare_bracket_size = 10\n",
    "number_of_price_brackets = fare_ceiling / fare_bracket_size"
   ]
  },
  {
   "cell_type": "code",
   "execution_count": 44,
   "metadata": {
    "collapsed": true
   },
   "outputs": [],
   "source": [
    "number_of_classes = len(np.unique(data[0::3]))"
   ]
  },
  {
   "cell_type": "code",
   "execution_count": null,
   "metadata": {
    "collapsed": true
   },
   "outputs": [],
   "source": []
  }
 ],
 "metadata": {
  "anaconda-cloud": {},
  "kernelspec": {
   "display_name": "Python [conda env:py27]",
   "language": "python",
   "name": "conda-env-py27-py"
  },
  "language_info": {
   "codemirror_mode": {
    "name": "ipython",
    "version": 2
   },
   "file_extension": ".py",
   "mimetype": "text/x-python",
   "name": "python",
   "nbconvert_exporter": "python",
   "pygments_lexer": "ipython2",
   "version": "2.7.12"
  }
 },
 "nbformat": 4,
 "nbformat_minor": 1
}
