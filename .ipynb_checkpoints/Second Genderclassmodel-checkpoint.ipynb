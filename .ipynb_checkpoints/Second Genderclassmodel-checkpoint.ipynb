{
 "cells": [
  {
   "cell_type": "code",
   "execution_count": 15,
   "metadata": {
    "collapsed": false
   },
   "outputs": [],
   "source": [
    "import csv as csv\n",
    "import numpy as np\n",
    "\n",
    "csv_file_object = csv.reader(open('data/train.csv', 'rb'))       \n",
    "header = csv_file_object.next()                             \n",
    "data=[]                                                     \n",
    "\n",
    "for row in csv_file_object:                 \n",
    "    data.append(row)                        \n",
    "data = np.array(data)                       "
   ]
  },
  {
   "cell_type": "code",
   "execution_count": 16,
   "metadata": {
    "collapsed": false
   },
   "outputs": [
    {
     "name": "stdout",
     "output_type": "stream",
     "text": [
      "4\n",
      "3\n"
     ]
    }
   ],
   "source": [
    "fare_ceiling = 40\n",
    "data[ data[0::,9].astype(np.float) >= fare_ceiling, 9 ] = fare_ceiling - 1.0\n",
    "\n",
    "fare_bracket_size = 10\n",
    "number_of_price_brackets = fare_ceiling / fare_bracket_size\n",
    "number_of_classes = 3                             \n",
    "number_of_classes = len(np.unique(data[0::,2]))   \n",
    "print number_of_price_brackets\n",
    "print number_of_classes"
   ]
  },
  {
   "cell_type": "code",
   "execution_count": 17,
   "metadata": {
    "collapsed": false,
    "scrolled": true
   },
   "outputs": [],
   "source": [
    "survival_table = np.zeros([2,number_of_classes,number_of_price_brackets],float)\n",
    "\n",
    "for i in xrange(number_of_classes):\n",
    "    for j in xrange(number_of_price_brackets):\n",
    "\n",
    "        women_only_stats = data[ (data[0::,4] == \"female\") \\\n",
    "                                 & (data[0::,2].astype(np.float) == i+1) \\\n",
    "                                 & (data[0:,9].astype(np.float) >= j*fare_bracket_size) \\\n",
    "                                 & (data[0:,9].astype(np.float) < (j+1)*fare_bracket_size), 1]\n",
    "\n",
    "        men_only_stats = data[ (data[0::,4] != \"female\") \\\n",
    "                                 & (data[0::,2].astype(np.float) == i+1) \\\n",
    "                                 & (data[0:,9].astype(np.float) >= j*fare_bracket_size) \\\n",
    "                                 & (data[0:,9].astype(np.float) < (j+1)*fare_bracket_size), 1]\n",
    "\n",
    "                                 #if i == 0 and j == 3:\n",
    "\n",
    "        survival_table[0,i,j] = np.mean(women_only_stats.astype(np.float)) \n",
    "        survival_table[1,i,j] = np.mean(men_only_stats.astype(np.float))    \n",
    "\n",
    "survival_table[ survival_table != survival_table ] = 0."
   ]
  },
  {
   "cell_type": "code",
   "execution_count": 18,
   "metadata": {
    "collapsed": false
   },
   "outputs": [
    {
     "name": "stdout",
     "output_type": "stream",
     "text": [
      "[[[ 0.          0.          0.83333333  0.97727273]\n",
      "  [ 0.          0.91428571  0.9         1.        ]\n",
      "  [ 0.59375     0.58139535  0.33333333  0.125     ]]\n",
      "\n",
      " [[ 0.          0.          0.4         0.38372093]\n",
      "  [ 0.          0.15873016  0.16        0.21428571]\n",
      "  [ 0.11153846  0.23684211  0.125       0.24      ]]]\n"
     ]
    }
   ],
   "source": [
    "survival_table[ survival_table != survival_table ] = 0.\n",
    "print survival_table"
   ]
  },
  {
   "cell_type": "code",
   "execution_count": 19,
   "metadata": {
    "collapsed": false
   },
   "outputs": [
    {
     "name": "stdout",
     "output_type": "stream",
     "text": [
      "[[[ 0.  0.  1.  1.]\n",
      "  [ 0.  1.  1.  1.]\n",
      "  [ 1.  1.  0.  0.]]\n",
      "\n",
      " [[ 0.  0.  0.  0.]\n",
      "  [ 0.  0.  0.  0.]\n",
      "  [ 0.  0.  0.  0.]]]\n"
     ]
    }
   ],
   "source": [
    "survival_table[ survival_table < 0.5 ] = 0\n",
    "survival_table[ survival_table >= 0.5 ] = 1\n",
    "print survival_table"
   ]
  },
  {
   "cell_type": "code",
   "execution_count": 20,
   "metadata": {
    "collapsed": false
   },
   "outputs": [],
   "source": [
    "test_file = open('data/test.csv', 'rb')\n",
    "test_file_object = csv.reader(test_file)\n",
    "header = test_file_object.next()\n",
    "\n",
    "predictions_file = open(\"genderclassmodel.csv\", \"wb\")\n",
    "predictions_file_object = csv.writer(predictions_file)\n",
    "predictions_file_object.writerow([\"PassengerId\", \"Survived\"])"
   ]
  },
  {
   "cell_type": "code",
   "execution_count": 21,
   "metadata": {
    "collapsed": false
   },
   "outputs": [
    {
     "name": "stderr",
     "output_type": "stream",
     "text": [
      "/Users/Matt/anaconda/envs/py27/lib/python2.7/site-packages/ipykernel/__main__.py:19: VisibleDeprecationWarning: using a non-integer number instead of an integer will result in an error in the future\n",
      "/Users/Matt/anaconda/envs/py27/lib/python2.7/site-packages/ipykernel/__main__.py:17: VisibleDeprecationWarning: using a non-integer number instead of an integer will result in an error in the future\n"
     ]
    }
   ],
   "source": [
    "for row in test_file_object:\n",
    "    for j in xrange(number_of_price_brackets):\n",
    "        try:\n",
    "            row[8] = float(row[8])    \n",
    "        except:                       \n",
    "            bin_fare = 3 - float(row[1])\n",
    "            break                     \n",
    "        if row[8] > fare_ceiling:     \n",
    "            bin_fare = number_of_price_brackets - 1\n",
    "            break                   \n",
    "\n",
    "        if row[8] >= j*fare_bracket_size\\\n",
    "            and row[8] < (j+1)*fare_bracket_size:     \n",
    "            bin_fare = j\n",
    "            break\n",
    "        \n",
    "    if row[3] == 'female':\n",
    "        predictions_file_object.writerow([row[0], \"%d\" % int(survival_table[ 0, float(row[1]) - 1, bin_fare ])])\n",
    "    else:\n",
    "        predictions_file_object.writerow([row[0], \"%d\" % int(survival_table[ 1, float(row[1]) - 1, bin_fare])])\n",
    "\n",
    "# Close out the files\n",
    "test_file.close()\n",
    "predictions_file.close()"
   ]
  },
  {
   "cell_type": "code",
   "execution_count": 22,
   "metadata": {
    "collapsed": false
   },
   "outputs": [
    {
     "name": "stdout",
     "output_type": "stream",
     "text": [
      "[[[ 0.  0.  1.  1.]\n",
      "  [ 0.  1.  1.  1.]\n",
      "  [ 1.  1.  0.  0.]]\n",
      "\n",
      " [[ 0.  0.  0.  0.]\n",
      "  [ 0.  0.  0.  0.]\n",
      "  [ 0.  0.  0.  0.]]]\n"
     ]
    }
   ],
   "source": [
    "print survival_table"
   ]
  },
  {
   "cell_type": "code",
   "execution_count": null,
   "metadata": {
    "collapsed": true
   },
   "outputs": [],
   "source": []
  },
  {
   "cell_type": "code",
   "execution_count": null,
   "metadata": {
    "collapsed": true
   },
   "outputs": [],
   "source": []
  },
  {
   "cell_type": "code",
   "execution_count": null,
   "metadata": {
    "collapsed": true
   },
   "outputs": [],
   "source": []
  },
  {
   "cell_type": "code",
   "execution_count": null,
   "metadata": {
    "collapsed": true
   },
   "outputs": [],
   "source": []
  },
  {
   "cell_type": "code",
   "execution_count": null,
   "metadata": {
    "collapsed": true
   },
   "outputs": [],
   "source": []
  }
 ],
 "metadata": {
  "anaconda-cloud": {},
  "kernelspec": {
   "display_name": "Python [conda env:py27]",
   "language": "python",
   "name": "conda-env-py27-py"
  },
  "language_info": {
   "codemirror_mode": {
    "name": "ipython",
    "version": 2
   },
   "file_extension": ".py",
   "mimetype": "text/x-python",
   "name": "python",
   "nbconvert_exporter": "python",
   "pygments_lexer": "ipython2",
   "version": "2.7.12"
  }
 },
 "nbformat": 4,
 "nbformat_minor": 1
}
